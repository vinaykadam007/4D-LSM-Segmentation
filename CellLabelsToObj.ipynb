{
 "cells": [
  {
   "cell_type": "markdown",
   "metadata": {},
   "source": [
    "# Initial"
   ]
  },
  {
   "cell_type": "code",
   "execution_count": null,
   "metadata": {},
   "outputs": [],
   "source": [
    "# import JupyterNotebooksLib as slicernb\n",
    "import slicer, vtk\n",
    "import os\n",
    "\n",
    "# Set image viewer size to 50% (fill half of a cell)\n",
    "slicernb.AppWindow.setWindowSize(scale=1)\n",
    "# Hide patient information from slice view\n",
    "slicernb.showSliceViewAnnotations(False)\n",
    "\n",
    "# Example of installing an extension:\n",
    "# slicernb.installExtensions([\"SegmentEditorExtraEffects\"])"
   ]
  },
  {
   "cell_type": "markdown",
   "metadata": {},
   "source": [
    "# Transfer all the .tif volumes to multi-class .obj files"
   ]
  },
  {
   "cell_type": "code",
   "execution_count": null,
   "metadata": {},
   "outputs": [],
   "source": [
    "for files in range(1,81):\n",
    "    \n",
    "    imagename = str(files)+'.tif'\n",
    "    dataFolder = 'F:/Xinyuan/allcells-1/celllabel_255_1_579/'+imagename\n",
    "    saveFolder = \"D:/slicerOutput0131_1-299\"\n",
    "    \n",
    "    # Clear scene\n",
    "    slicer.mrmlScene.Clear(False)\n",
    "\n",
    "    # Load from local file\n",
    "    masterVolumeNode = slicer.util.loadVolume(dataFolder)\n",
    "    outputVolumeSpacingMm = [0.000325, 0.000325, 0.001]\n",
    "    masterVolumeNode.SetSpacing(outputVolumeSpacingMm)\n",
    "\n",
    "    # Lightbox view\n",
    "    slicernb.ViewLightboxDisplay(\"Red\")\n",
    "\n",
    "    # Create segmentation\n",
    "    segmentationNode = slicer.mrmlScene.AddNewNodeByClass(\"vtkMRMLSegmentationNode\")\n",
    "    nodename = \"vol1_\"+str(files)\n",
    "    segmentationNode.SetName(nodename)\n",
    "    slicer.modules.markups.widgetRepresentation().onRenameAllWithCurrentNameFormatPushButtonClicked()\n",
    "    segmentationNode.CreateDefaultDisplayNodes() # only needed for display\n",
    "    segmentationNode.SetReferenceImageGeometryParameterFromVolumeNode(masterVolumeNode)\n",
    "\n",
    "    # Create temporary segment editor to get access to effects\n",
    "    segmentEditorWidget = slicer.qMRMLSegmentEditorWidget()\n",
    "    segmentEditorWidget.setMRMLScene(slicer.mrmlScene)\n",
    "    segmentEditorNode = slicer.mrmlScene.AddNewNodeByClass(\"vtkMRMLSegmentEditorNode\")\n",
    "    segmentEditorWidget.setMRMLSegmentEditorNode(segmentEditorNode)\n",
    "    segmentEditorWidget.setSegmentationNode(segmentationNode)\n",
    "    segmentEditorWidget.setMasterVolumeNode(masterVolumeNode)\n",
    "\n",
    "    # Create segments by thresholding\n",
    "    cellAll = []\n",
    "    for i in range(1,300):\n",
    "        cellDic = []   \n",
    "        cellDic.append(\"cell_\"+str(i))\n",
    "        cellDic.append(i)\n",
    "        cellDic.append(i)\n",
    "        cellAll.append(cellDic)\n",
    "    # segmentsFromHounsfieldUnits = [\n",
    "    #     [\"cell_1\", 1, 1],\n",
    "    #     [\"cell_2\", 2, 2],\n",
    "    #     [\"cell_3\", 3, 3] ]\n",
    "    segmentsFromHounsfieldUnits = cellAll\n",
    "\n",
    "    for segmentName, thresholdMin, thresholdMax in segmentsFromHounsfieldUnits:\n",
    "        # Create segment\n",
    "        addedSegmentID = segmentationNode.GetSegmentation().AddEmptySegment(segmentName)\n",
    "        segmentEditorNode.SetSelectedSegmentID(addedSegmentID)\n",
    "        # Fill by thresholding\n",
    "        segmentEditorWidget.setActiveEffectByName(\"Threshold\")\n",
    "        effect = segmentEditorWidget.activeEffect()\n",
    "        effect.setParameter(\"MinimumThreshold\",str(thresholdMin))\n",
    "        effect.setParameter(\"MaximumThreshold\",str(thresholdMax))\n",
    "        effect.self().onApply()\n",
    "        segmentId = segmentationNode.GetSegmentation().GetSegmentIdBySegmentName(segmentName)\n",
    "#         print(segmentId)\n",
    "#         print(segmentName)\n",
    "        if thresholdMin < 256:\n",
    "            segmentationNode.GetSegmentation().GetSegment(segmentId).SetColor(thresholdMin/255,1-thresholdMin/255,0)\n",
    "        elif thresholdMin > 255 and thresholdMin < 512:\n",
    "            segmentationNode.GetSegmentation().GetSegment(segmentId).SetColor(0,(thresholdMin-255)/255,1-(thresholdMin-255)/255)\n",
    "        elif thresholdMin > 511 and thresholdMin < 768:\n",
    "            segmentationNode.GetSegmentation().GetSegment(segmentId).SetColor(1-(thresholdMin-511)/255,0,(thresholdMin-511)/255)\n",
    "\n",
    "    # Delete temporary segment editor\n",
    "    segmentEditorWidget = None\n",
    "    slicer.mrmlScene.RemoveNode(segmentEditorNode)\n",
    "    segmentationNode.CreateClosedSurfaceRepresentation()\n",
    "    \n",
    "    if not os.path.exists(saveFolder):\n",
    "        os.mkdir(saveFolder)\n",
    "    saveFolder = saveFolder+'/'\n",
    "    slicer.modules.segmentations.logic().ExportSegmentsClosedSurfaceRepresentationToFiles(saveFolder, segmentationNode, None,\"OBJ\", True, 1.0, False )\n"
   ]
  }
 ],
 "metadata": {
  "kernelspec": {
   "display_name": "Slicer 5.2",
   "language": "python",
   "name": "slicer-5.2"
  },
  "language_info": {
   "file_extension": ".py",
   "mimetype": "text/x-python",
   "name": "python",
   "version": "3.9.10"
  }
 },
 "nbformat": 4,
 "nbformat_minor": 4
}
